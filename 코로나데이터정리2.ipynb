{
 "cells": [
  {
   "cell_type": "raw",
   "id": "5bbb1baa",
   "metadata": {},
   "source": [
    "import numpy as np\n",
    "import pandas as pd\n",
    "import matplotlib.pyplot as plt"
   ]
  },
  {
   "cell_type": "code",
   "execution_count": 3,
   "id": "25bbca00",
   "metadata": {},
   "outputs": [],
   "source": [
    "import numpy as np"
   ]
  },
  {
   "cell_type": "code",
   "execution_count": 4,
   "id": "2f41b30c",
   "metadata": {},
   "outputs": [],
   "source": [
    "import pandas as pd"
   ]
  },
  {
   "cell_type": "code",
   "execution_count": 5,
   "id": "256b7ffb",
   "metadata": {},
   "outputs": [],
   "source": [
    "import matplotlib.pyplot as plt"
   ]
  },
  {
   "cell_type": "code",
   "execution_count": 6,
   "id": "c5a06ea6",
   "metadata": {},
   "outputs": [
    {
     "ename": "UnicodeDecodeError",
     "evalue": "'utf-8' codec can't decode byte 0xbc in position 1: invalid start byte",
     "output_type": "error",
     "traceback": [
      "\u001b[1;31m---------------------------------------------------------------------------\u001b[0m",
      "\u001b[1;31mUnicodeDecodeError\u001b[0m                        Traceback (most recent call last)",
      "Input \u001b[1;32mIn [6]\u001b[0m, in \u001b[0;36m<cell line: 1>\u001b[1;34m()\u001b[0m\n\u001b[1;32m----> 1\u001b[0m df \u001b[38;5;241m=\u001b[39m \u001b[43mpd\u001b[49m\u001b[38;5;241;43m.\u001b[39;49m\u001b[43mread_csv\u001b[49m\u001b[43m(\u001b[49m\u001b[38;5;124;43m\"\u001b[39;49m\u001b[38;5;124;43mcov19.csv.csv\u001b[39;49m\u001b[38;5;124;43m\"\u001b[39;49m\u001b[43m)\u001b[49m\n",
      "File \u001b[1;32m~\\anaconda3\\lib\\site-packages\\pandas\\util\\_decorators.py:311\u001b[0m, in \u001b[0;36mdeprecate_nonkeyword_arguments.<locals>.decorate.<locals>.wrapper\u001b[1;34m(*args, **kwargs)\u001b[0m\n\u001b[0;32m    305\u001b[0m \u001b[38;5;28;01mif\u001b[39;00m \u001b[38;5;28mlen\u001b[39m(args) \u001b[38;5;241m>\u001b[39m num_allow_args:\n\u001b[0;32m    306\u001b[0m     warnings\u001b[38;5;241m.\u001b[39mwarn(\n\u001b[0;32m    307\u001b[0m         msg\u001b[38;5;241m.\u001b[39mformat(arguments\u001b[38;5;241m=\u001b[39marguments),\n\u001b[0;32m    308\u001b[0m         \u001b[38;5;167;01mFutureWarning\u001b[39;00m,\n\u001b[0;32m    309\u001b[0m         stacklevel\u001b[38;5;241m=\u001b[39mstacklevel,\n\u001b[0;32m    310\u001b[0m     )\n\u001b[1;32m--> 311\u001b[0m \u001b[38;5;28;01mreturn\u001b[39;00m func(\u001b[38;5;241m*\u001b[39margs, \u001b[38;5;241m*\u001b[39m\u001b[38;5;241m*\u001b[39mkwargs)\n",
      "File \u001b[1;32m~\\anaconda3\\lib\\site-packages\\pandas\\io\\parsers\\readers.py:680\u001b[0m, in \u001b[0;36mread_csv\u001b[1;34m(filepath_or_buffer, sep, delimiter, header, names, index_col, usecols, squeeze, prefix, mangle_dupe_cols, dtype, engine, converters, true_values, false_values, skipinitialspace, skiprows, skipfooter, nrows, na_values, keep_default_na, na_filter, verbose, skip_blank_lines, parse_dates, infer_datetime_format, keep_date_col, date_parser, dayfirst, cache_dates, iterator, chunksize, compression, thousands, decimal, lineterminator, quotechar, quoting, doublequote, escapechar, comment, encoding, encoding_errors, dialect, error_bad_lines, warn_bad_lines, on_bad_lines, delim_whitespace, low_memory, memory_map, float_precision, storage_options)\u001b[0m\n\u001b[0;32m    665\u001b[0m kwds_defaults \u001b[38;5;241m=\u001b[39m _refine_defaults_read(\n\u001b[0;32m    666\u001b[0m     dialect,\n\u001b[0;32m    667\u001b[0m     delimiter,\n\u001b[1;32m   (...)\u001b[0m\n\u001b[0;32m    676\u001b[0m     defaults\u001b[38;5;241m=\u001b[39m{\u001b[38;5;124m\"\u001b[39m\u001b[38;5;124mdelimiter\u001b[39m\u001b[38;5;124m\"\u001b[39m: \u001b[38;5;124m\"\u001b[39m\u001b[38;5;124m,\u001b[39m\u001b[38;5;124m\"\u001b[39m},\n\u001b[0;32m    677\u001b[0m )\n\u001b[0;32m    678\u001b[0m kwds\u001b[38;5;241m.\u001b[39mupdate(kwds_defaults)\n\u001b[1;32m--> 680\u001b[0m \u001b[38;5;28;01mreturn\u001b[39;00m \u001b[43m_read\u001b[49m\u001b[43m(\u001b[49m\u001b[43mfilepath_or_buffer\u001b[49m\u001b[43m,\u001b[49m\u001b[43m \u001b[49m\u001b[43mkwds\u001b[49m\u001b[43m)\u001b[49m\n",
      "File \u001b[1;32m~\\anaconda3\\lib\\site-packages\\pandas\\io\\parsers\\readers.py:575\u001b[0m, in \u001b[0;36m_read\u001b[1;34m(filepath_or_buffer, kwds)\u001b[0m\n\u001b[0;32m    572\u001b[0m _validate_names(kwds\u001b[38;5;241m.\u001b[39mget(\u001b[38;5;124m\"\u001b[39m\u001b[38;5;124mnames\u001b[39m\u001b[38;5;124m\"\u001b[39m, \u001b[38;5;28;01mNone\u001b[39;00m))\n\u001b[0;32m    574\u001b[0m \u001b[38;5;66;03m# Create the parser.\u001b[39;00m\n\u001b[1;32m--> 575\u001b[0m parser \u001b[38;5;241m=\u001b[39m TextFileReader(filepath_or_buffer, \u001b[38;5;241m*\u001b[39m\u001b[38;5;241m*\u001b[39mkwds)\n\u001b[0;32m    577\u001b[0m \u001b[38;5;28;01mif\u001b[39;00m chunksize \u001b[38;5;129;01mor\u001b[39;00m iterator:\n\u001b[0;32m    578\u001b[0m     \u001b[38;5;28;01mreturn\u001b[39;00m parser\n",
      "File \u001b[1;32m~\\anaconda3\\lib\\site-packages\\pandas\\io\\parsers\\readers.py:933\u001b[0m, in \u001b[0;36mTextFileReader.__init__\u001b[1;34m(self, f, engine, **kwds)\u001b[0m\n\u001b[0;32m    930\u001b[0m     \u001b[38;5;28mself\u001b[39m\u001b[38;5;241m.\u001b[39moptions[\u001b[38;5;124m\"\u001b[39m\u001b[38;5;124mhas_index_names\u001b[39m\u001b[38;5;124m\"\u001b[39m] \u001b[38;5;241m=\u001b[39m kwds[\u001b[38;5;124m\"\u001b[39m\u001b[38;5;124mhas_index_names\u001b[39m\u001b[38;5;124m\"\u001b[39m]\n\u001b[0;32m    932\u001b[0m \u001b[38;5;28mself\u001b[39m\u001b[38;5;241m.\u001b[39mhandles: IOHandles \u001b[38;5;241m|\u001b[39m \u001b[38;5;28;01mNone\u001b[39;00m \u001b[38;5;241m=\u001b[39m \u001b[38;5;28;01mNone\u001b[39;00m\n\u001b[1;32m--> 933\u001b[0m \u001b[38;5;28mself\u001b[39m\u001b[38;5;241m.\u001b[39m_engine \u001b[38;5;241m=\u001b[39m \u001b[38;5;28;43mself\u001b[39;49m\u001b[38;5;241;43m.\u001b[39;49m\u001b[43m_make_engine\u001b[49m\u001b[43m(\u001b[49m\u001b[43mf\u001b[49m\u001b[43m,\u001b[49m\u001b[43m \u001b[49m\u001b[38;5;28;43mself\u001b[39;49m\u001b[38;5;241;43m.\u001b[39;49m\u001b[43mengine\u001b[49m\u001b[43m)\u001b[49m\n",
      "File \u001b[1;32m~\\anaconda3\\lib\\site-packages\\pandas\\io\\parsers\\readers.py:1235\u001b[0m, in \u001b[0;36mTextFileReader._make_engine\u001b[1;34m(self, f, engine)\u001b[0m\n\u001b[0;32m   1232\u001b[0m     \u001b[38;5;28;01mraise\u001b[39;00m \u001b[38;5;167;01mValueError\u001b[39;00m(msg)\n\u001b[0;32m   1234\u001b[0m \u001b[38;5;28;01mtry\u001b[39;00m:\n\u001b[1;32m-> 1235\u001b[0m     \u001b[38;5;28;01mreturn\u001b[39;00m mapping[engine](f, \u001b[38;5;241m*\u001b[39m\u001b[38;5;241m*\u001b[39m\u001b[38;5;28mself\u001b[39m\u001b[38;5;241m.\u001b[39moptions)\n\u001b[0;32m   1236\u001b[0m \u001b[38;5;28;01mexcept\u001b[39;00m \u001b[38;5;167;01mException\u001b[39;00m:\n\u001b[0;32m   1237\u001b[0m     \u001b[38;5;28;01mif\u001b[39;00m \u001b[38;5;28mself\u001b[39m\u001b[38;5;241m.\u001b[39mhandles \u001b[38;5;129;01mis\u001b[39;00m \u001b[38;5;129;01mnot\u001b[39;00m \u001b[38;5;28;01mNone\u001b[39;00m:\n",
      "File \u001b[1;32m~\\anaconda3\\lib\\site-packages\\pandas\\io\\parsers\\c_parser_wrapper.py:75\u001b[0m, in \u001b[0;36mCParserWrapper.__init__\u001b[1;34m(self, src, **kwds)\u001b[0m\n\u001b[0;32m     72\u001b[0m     kwds\u001b[38;5;241m.\u001b[39mpop(key, \u001b[38;5;28;01mNone\u001b[39;00m)\n\u001b[0;32m     74\u001b[0m kwds[\u001b[38;5;124m\"\u001b[39m\u001b[38;5;124mdtype\u001b[39m\u001b[38;5;124m\"\u001b[39m] \u001b[38;5;241m=\u001b[39m ensure_dtype_objs(kwds\u001b[38;5;241m.\u001b[39mget(\u001b[38;5;124m\"\u001b[39m\u001b[38;5;124mdtype\u001b[39m\u001b[38;5;124m\"\u001b[39m, \u001b[38;5;28;01mNone\u001b[39;00m))\n\u001b[1;32m---> 75\u001b[0m \u001b[38;5;28mself\u001b[39m\u001b[38;5;241m.\u001b[39m_reader \u001b[38;5;241m=\u001b[39m parsers\u001b[38;5;241m.\u001b[39mTextReader(src, \u001b[38;5;241m*\u001b[39m\u001b[38;5;241m*\u001b[39mkwds)\n\u001b[0;32m     77\u001b[0m \u001b[38;5;28mself\u001b[39m\u001b[38;5;241m.\u001b[39munnamed_cols \u001b[38;5;241m=\u001b[39m \u001b[38;5;28mself\u001b[39m\u001b[38;5;241m.\u001b[39m_reader\u001b[38;5;241m.\u001b[39munnamed_cols\n\u001b[0;32m     79\u001b[0m \u001b[38;5;66;03m# error: Cannot determine type of 'names'\u001b[39;00m\n",
      "File \u001b[1;32m~\\anaconda3\\lib\\site-packages\\pandas\\_libs\\parsers.pyx:544\u001b[0m, in \u001b[0;36mpandas._libs.parsers.TextReader.__cinit__\u001b[1;34m()\u001b[0m\n",
      "File \u001b[1;32m~\\anaconda3\\lib\\site-packages\\pandas\\_libs\\parsers.pyx:633\u001b[0m, in \u001b[0;36mpandas._libs.parsers.TextReader._get_header\u001b[1;34m()\u001b[0m\n",
      "File \u001b[1;32m~\\anaconda3\\lib\\site-packages\\pandas\\_libs\\parsers.pyx:847\u001b[0m, in \u001b[0;36mpandas._libs.parsers.TextReader._tokenize_rows\u001b[1;34m()\u001b[0m\n",
      "File \u001b[1;32m~\\anaconda3\\lib\\site-packages\\pandas\\_libs\\parsers.pyx:1952\u001b[0m, in \u001b[0;36mpandas._libs.parsers.raise_parser_error\u001b[1;34m()\u001b[0m\n",
      "\u001b[1;31mUnicodeDecodeError\u001b[0m: 'utf-8' codec can't decode byte 0xbc in position 1: invalid start byte"
     ]
    }
   ],
   "source": [
    "df = pd.read_csv(\"cov19.csv.csv\")"
   ]
  },
  {
   "cell_type": "code",
   "execution_count": 3,
   "id": "f7da5a42",
   "metadata": {},
   "outputs": [
    {
     "data": {
      "text/html": [
       "<div>\n",
       "<style scoped>\n",
       "    .dataframe tbody tr th:only-of-type {\n",
       "        vertical-align: middle;\n",
       "    }\n",
       "\n",
       "    .dataframe tbody tr th {\n",
       "        vertical-align: top;\n",
       "    }\n",
       "\n",
       "    .dataframe thead th {\n",
       "        text-align: right;\n",
       "    }\n",
       "</style>\n",
       "<table border=\"1\" class=\"dataframe\">\n",
       "  <thead>\n",
       "    <tr style=\"text-align: right;\">\n",
       "      <th></th>\n",
       "      <th>서울시 기준일</th>\n",
       "      <th>서울시 확진자</th>\n",
       "      <th>서울시 추가 확진</th>\n",
       "      <th>서울시 치료중</th>\n",
       "      <th>서울시 퇴원</th>\n",
       "      <th>서울시 추가 퇴원</th>\n",
       "      <th>서울시 사망</th>\n",
       "      <th>서울시 의심환자 전체</th>\n",
       "      <th>서울시 의심환자 검사중</th>\n",
       "      <th>서울시 의심환자 검사결과(음성)</th>\n",
       "      <th>...</th>\n",
       "      <th>전국 의심환자 전체</th>\n",
       "      <th>전국 의심환자 검사중</th>\n",
       "      <th>전국 의심환자 검사결과(음성)</th>\n",
       "      <th>자가격리자 해외입국자 감시중</th>\n",
       "      <th>자가격리자 해외입국자 감시해제</th>\n",
       "      <th>자가격리자 접촉자 감시중</th>\n",
       "      <th>자가격리자 접촉자 감시해제</th>\n",
       "      <th>확인중 확진자</th>\n",
       "      <th>서울시 당일사망자</th>\n",
       "      <th>전국 당일 사망자</th>\n",
       "    </tr>\n",
       "  </thead>\n",
       "  <tbody>\n",
       "    <tr>\n",
       "      <th>0</th>\n",
       "      <td>2022.10.31.00</td>\n",
       "      <td>4990582</td>\n",
       "      <td>3099</td>\n",
       "      <td>0</td>\n",
       "      <td>NaN</td>\n",
       "      <td>NaN</td>\n",
       "      <td>5603</td>\n",
       "      <td>NaN</td>\n",
       "      <td>NaN</td>\n",
       "      <td>NaN</td>\n",
       "      <td>...</td>\n",
       "      <td>NaN</td>\n",
       "      <td>NaN</td>\n",
       "      <td>NaN</td>\n",
       "      <td>NaN</td>\n",
       "      <td>NaN</td>\n",
       "      <td>NaN</td>\n",
       "      <td>NaN</td>\n",
       "      <td>0.0</td>\n",
       "      <td>5.0</td>\n",
       "      <td>18.0</td>\n",
       "    </tr>\n",
       "    <tr>\n",
       "      <th>1</th>\n",
       "      <td>2022.10.30.00</td>\n",
       "      <td>4987483</td>\n",
       "      <td>6708</td>\n",
       "      <td>0</td>\n",
       "      <td>NaN</td>\n",
       "      <td>NaN</td>\n",
       "      <td>5598</td>\n",
       "      <td>NaN</td>\n",
       "      <td>NaN</td>\n",
       "      <td>NaN</td>\n",
       "      <td>...</td>\n",
       "      <td>NaN</td>\n",
       "      <td>NaN</td>\n",
       "      <td>NaN</td>\n",
       "      <td>NaN</td>\n",
       "      <td>NaN</td>\n",
       "      <td>NaN</td>\n",
       "      <td>NaN</td>\n",
       "      <td>0.0</td>\n",
       "      <td>1.0</td>\n",
       "      <td>27.0</td>\n",
       "    </tr>\n",
       "    <tr>\n",
       "      <th>2</th>\n",
       "      <td>2022.10.29.00</td>\n",
       "      <td>4980775</td>\n",
       "      <td>7578</td>\n",
       "      <td>0</td>\n",
       "      <td>NaN</td>\n",
       "      <td>NaN</td>\n",
       "      <td>5597</td>\n",
       "      <td>NaN</td>\n",
       "      <td>NaN</td>\n",
       "      <td>NaN</td>\n",
       "      <td>...</td>\n",
       "      <td>NaN</td>\n",
       "      <td>NaN</td>\n",
       "      <td>NaN</td>\n",
       "      <td>NaN</td>\n",
       "      <td>NaN</td>\n",
       "      <td>NaN</td>\n",
       "      <td>NaN</td>\n",
       "      <td>0.0</td>\n",
       "      <td>3.0</td>\n",
       "      <td>31.0</td>\n",
       "    </tr>\n",
       "    <tr>\n",
       "      <th>3</th>\n",
       "      <td>2022.10.28.00</td>\n",
       "      <td>4973197</td>\n",
       "      <td>7480</td>\n",
       "      <td>0</td>\n",
       "      <td>NaN</td>\n",
       "      <td>NaN</td>\n",
       "      <td>5594</td>\n",
       "      <td>NaN</td>\n",
       "      <td>NaN</td>\n",
       "      <td>NaN</td>\n",
       "      <td>...</td>\n",
       "      <td>NaN</td>\n",
       "      <td>NaN</td>\n",
       "      <td>NaN</td>\n",
       "      <td>NaN</td>\n",
       "      <td>NaN</td>\n",
       "      <td>NaN</td>\n",
       "      <td>NaN</td>\n",
       "      <td>0.0</td>\n",
       "      <td>4.0</td>\n",
       "      <td>31.0</td>\n",
       "    </tr>\n",
       "    <tr>\n",
       "      <th>4</th>\n",
       "      <td>2022.10.27.00</td>\n",
       "      <td>4965729</td>\n",
       "      <td>6848</td>\n",
       "      <td>0</td>\n",
       "      <td>NaN</td>\n",
       "      <td>NaN</td>\n",
       "      <td>5590</td>\n",
       "      <td>NaN</td>\n",
       "      <td>NaN</td>\n",
       "      <td>NaN</td>\n",
       "      <td>...</td>\n",
       "      <td>NaN</td>\n",
       "      <td>NaN</td>\n",
       "      <td>NaN</td>\n",
       "      <td>NaN</td>\n",
       "      <td>NaN</td>\n",
       "      <td>NaN</td>\n",
       "      <td>NaN</td>\n",
       "      <td>0.0</td>\n",
       "      <td>3.0</td>\n",
       "      <td>26.0</td>\n",
       "    </tr>\n",
       "  </tbody>\n",
       "</table>\n",
       "<p>5 rows × 26 columns</p>\n",
       "</div>"
      ],
      "text/plain": [
       "         서울시 기준일  서울시 확진자  서울시 추가 확진  서울시 치료중  서울시 퇴원  서울시 추가 퇴원  서울시 사망  \\\n",
       "0  2022.10.31.00  4990582       3099        0     NaN        NaN    5603   \n",
       "1  2022.10.30.00  4987483       6708        0     NaN        NaN    5598   \n",
       "2  2022.10.29.00  4980775       7578        0     NaN        NaN    5597   \n",
       "3  2022.10.28.00  4973197       7480        0     NaN        NaN    5594   \n",
       "4  2022.10.27.00  4965729       6848        0     NaN        NaN    5590   \n",
       "\n",
       "   서울시 의심환자 전체  서울시 의심환자 검사중  서울시 의심환자 검사결과(음성)  ... 전국 의심환자 전체  전국 의심환자 검사중  \\\n",
       "0          NaN           NaN                NaN  ...        NaN          NaN   \n",
       "1          NaN           NaN                NaN  ...        NaN          NaN   \n",
       "2          NaN           NaN                NaN  ...        NaN          NaN   \n",
       "3          NaN           NaN                NaN  ...        NaN          NaN   \n",
       "4          NaN           NaN                NaN  ...        NaN          NaN   \n",
       "\n",
       "   전국 의심환자 검사결과(음성)  자가격리자 해외입국자 감시중  자가격리자 해외입국자 감시해제  자가격리자 접촉자 감시중  \\\n",
       "0               NaN              NaN               NaN            NaN   \n",
       "1               NaN              NaN               NaN            NaN   \n",
       "2               NaN              NaN               NaN            NaN   \n",
       "3               NaN              NaN               NaN            NaN   \n",
       "4               NaN              NaN               NaN            NaN   \n",
       "\n",
       "   자가격리자 접촉자 감시해제  확인중 확진자  서울시 당일사망자  전국 당일 사망자  \n",
       "0             NaN      0.0        5.0       18.0  \n",
       "1             NaN      0.0        1.0       27.0  \n",
       "2             NaN      0.0        3.0       31.0  \n",
       "3             NaN      0.0        4.0       31.0  \n",
       "4             NaN      0.0        3.0       26.0  \n",
       "\n",
       "[5 rows x 26 columns]"
      ]
     },
     "execution_count": 3,
     "metadata": {},
     "output_type": "execute_result"
    }
   ],
   "source": [
    "df = pd.read_csv(\"cov19.csv.csv\")\n",
    "df.head()"
   ]
  },
  {
   "cell_type": "code",
   "execution_count": 4,
   "id": "ada71703",
   "metadata": {},
   "outputs": [],
   "source": [
    "df2 = df.copy()"
   ]
  },
  {
   "cell_type": "code",
   "execution_count": 8,
   "id": "fca9537e",
   "metadata": {},
   "outputs": [],
   "source": [
    "df2[\"서울시 기준일\"] = pd.to_datetime(df2[\"서울시 기준일\"])"
   ]
  },
  {
   "cell_type": "code",
   "execution_count": 10,
   "id": "40a7f1b3",
   "metadata": {},
   "outputs": [],
   "source": [
    "df2[\"date\"] = df2[\"서울시 기준일\"].dt.normalize()"
   ]
  },
  {
   "cell_type": "code",
   "execution_count": 11,
   "id": "a3c16241",
   "metadata": {},
   "outputs": [],
   "source": [
    "df2[\"날짜\"] = df2[\"date\"]"
   ]
  },
  {
   "cell_type": "code",
   "execution_count": 12,
   "id": "920c1148",
   "metadata": {},
   "outputs": [],
   "source": [
    "df2[\"year\"] = df2[\"date\"].dt.year\n",
    "df2[\"month\"] = df2[\"date\"].dt.month\n",
    "df2[\"day\"] = df2[\"date\"].dt.day"
   ]
  },
  {
   "cell_type": "code",
   "execution_count": 13,
   "id": "b7102caa",
   "metadata": {},
   "outputs": [],
   "source": [
    "df2.set_index(\"날짜\", inplace = True)"
   ]
  },
  {
   "cell_type": "markdown",
   "id": "f42fd81f",
   "metadata": {},
   "source": [
    "# 2020, 2021, 2022 서울시 추가 확진자에 대한 그래프 그리기"
   ]
  },
  {
   "cell_type": "code",
   "execution_count": 16,
   "id": "c3f159c7",
   "metadata": {
    "scrolled": false
   },
   "outputs": [
    {
     "data": {
      "text/plain": [
       "날짜\n",
       "2020-12-31    366\n",
       "2020-12-30    387\n",
       "2020-12-29    523\n",
       "2020-12-28    301\n",
       "2020-12-27    362\n",
       "             ... \n",
       "2020-03-02      0\n",
       "2020-03-01      0\n",
       "2020-02-29      0\n",
       "2020-02-28      0\n",
       "2020-02-20      0\n",
       "Name: 서울시 추가 확진, Length: 309, dtype: int64"
      ]
     },
     "execution_count": 16,
     "metadata": {},
     "output_type": "execute_result"
    }
   ],
   "source": [
    "df2_2022_all_all = df2.loc[\"2020\",\"서울시 추가 확진\"]\n",
    "df2_2022_all_all"
   ]
  },
  {
   "cell_type": "code",
   "execution_count": 94,
   "id": "1f987687",
   "metadata": {},
   "outputs": [],
   "source": [
    "df2_2020_all_all = df2.loc[\"2020\",\"서울시 추가 확진\"]\n",
    "df2_2021_all_all = df2.loc[\"2021\",\"서울시 추가 확진\"]\n",
    "df2_2022_all_all = df2.loc[\"2022\",\"서울시 추가 확진\"]"
   ]
  },
  {
   "cell_type": "code",
   "execution_count": 21,
   "id": "944229c2",
   "metadata": {},
   "outputs": [],
   "source": [
    "plt.rc(\"font\", family = \"Malgun Gothic\")"
   ]
  },
  {
   "cell_type": "code",
   "execution_count": 24,
   "id": "641a60f4",
   "metadata": {
    "scrolled": true
   },
   "outputs": [
    {
     "data": {
      "image/png": "[encoded data removed]",
      "text/plain": [
       "<Figure size 432x288 with 1 Axes>"
      ]
     },
     "metadata": {
      "needs_background": "light"
     },
     "output_type": "display_data"
    }
   ],
   "source": [
    "fig, ax = plt.subplots()\n",
    "\n",
    "ax.boxplot([df2_2020_all_all, df2_2021_all_all, df2_2022_all_all])\n",
    "ax.set_xticks([1,2,3], [2020, 2021, 2022])\n",
    "\n",
    "plt.show()"
   ]
  },
  {
   "cell_type": "code",
   "execution_count": 26,
   "id": "4190c027",
   "metadata": {},
   "outputs": [
    {
     "data": {
      "image/png": "[encoded data removed]",
      "text/plain": [
       "<Figure size 432x288 with 1 Axes>"
      ]
     },
     "metadata": {
      "needs_background": "light"
     },
     "output_type": "display_data"
    }
   ],
   "source": [
    "fig, ax = plt.subplots()\n",
    "\n",
    "ax.plot(df2_2020_all_all)\n",
    "ax.plot(df2_2021_all_all)\n",
    "ax.plot(df2_2022_all_all) \n",
    "\n",
    "plt.show()"
   ]
  },
  {
   "cell_type": "code",
   "execution_count": 28,
   "id": "5149da01",
   "metadata": {},
   "outputs": [
    {
     "data": {
      "image/png": "[encoded data removed]",
      "text/plain": [
       "<Figure size 432x288 with 1 Axes>"
      ]
     },
     "metadata": {
      "needs_background": "light"
     },
     "output_type": "display_data"
    }
   ],
   "source": [
    "fig, ax = plt.subplots()\n",
    "\n",
    "ax.plot(np.log10(df2_2020_all_all))\n",
    "ax.plot(np.log10(df2_2021_all_all))\n",
    "ax.plot(np.log10(df2_2022_all_all)) \n",
    "\n",
    "plt.show()"
   ]
  },
  {
   "cell_type": "code",
   "execution_count": 30,
   "id": "306dee35",
   "metadata": {},
   "outputs": [
    {
     "name": "stdout",
     "output_type": "stream",
     "text": [
      "[0 1 2] [1 2 5] [0.      0.30103 0.69897]\n"
     ]
    }
   ],
   "source": [
    "x = np.arange(0, 3)\n",
    "y1 = x**2 + 1 \n",
    "y2 = np.log10(y1)\n",
    "\n",
    "print(x, y1, y2)"
   ]
  },
  {
   "cell_type": "code",
   "execution_count": 41,
   "id": "afbba933",
   "metadata": {
    "scrolled": true
   },
   "outputs": [
    {
     "data": {
      "image/png": "[encoded data removed]",
      "text/plain": [
       "<Figure size 432x288 with 2 Axes>"
      ]
     },
     "metadata": {
      "needs_background": "light"
     },
     "output_type": "display_data"
    }
   ],
   "source": [
    "fig, ax = plt.subplots()\n",
    "ax.plot(x, y1, color = \"w\")\n",
    "\n",
    "ax2 = ax.twinx()\n",
    "ax2.plot(x, y2, color = \"g\")\n",
    "ax2.set_yticks([])\n",
    "\n",
    "plt.show()"
   ]
  },
  {
   "cell_type": "code",
   "execution_count": 49,
   "id": "149bb7f0",
   "metadata": {},
   "outputs": [
    {
     "data": {
      "image/png": "[encoded data removed]",
      "text/plain": [
       "<Figure size 432x288 with 2 Axes>"
      ]
     },
     "metadata": {
      "needs_background": "light"
     },
     "output_type": "display_data"
    }
   ],
   "source": [
    "fig, ax = plt.subplots()\n",
    "\n",
    "ax.plot(df2_2020_all_all , color = \"w\")\n",
    "\n",
    "ax1 = ax.twinx()\n",
    "ax1.plot(np.log10(df2_2020_all_all))\n",
    "ax1.set_yticks([])\n",
    "\n",
    "plt.show()\n"
   ]
  },
  {
   "cell_type": "code",
   "execution_count": 45,
   "id": "f4d89250",
   "metadata": {},
   "outputs": [
    {
     "data": {
      "image/png": "[encoded data removed]",
      "text/plain": [
       "<Figure size 432x288 with 1 Axes>"
      ]
     },
     "metadata": {
      "needs_background": "light"
     },
     "output_type": "display_data"
    }
   ],
   "source": [
    "plt.plot(np.log10(df2_2020_all_all))\n",
    "plt.show()"
   ]
  },
  {
   "cell_type": "code",
   "execution_count": 52,
   "id": "70e6d619",
   "metadata": {},
   "outputs": [
    {
     "data": {
      "image/png": "[encoded data removed]",
      "text/plain": [
       "<Figure size 432x288 with 2 Axes>"
      ]
     },
     "metadata": {
      "needs_background": "light"
     },
     "output_type": "display_data"
    }
   ],
   "source": [
    "fig, ax = plt.subplots()\n",
    "\n",
    "ax.plot(df2_2020_all_all , color = \"w\")\n",
    "\n",
    "ax1 = ax.twinx()\n",
    "\n",
    "\n",
    "ax1.plot(np.log10(df2_2020_all_all))\n",
    "\n",
    "ax1.plot(np.log10(df2_2021_all_all))\n",
    "\n",
    "ax1.plot(np.log10(df2_2022_all_all))\n",
    "\n",
    "\n",
    "ax1.set_yticks([])\n",
    "\n",
    "plt.show()\n"
   ]
  },
  {
   "cell_type": "markdown",
   "id": "e9a26eff",
   "metadata": {},
   "source": [
    "# 2021 년 월별 서울시 추가 확진에 대한 그래프"
   ]
  },
  {
   "cell_type": "code",
   "execution_count": 55,
   "id": "1baa7962",
   "metadata": {},
   "outputs": [
    {
     "data": {
      "text/plain": [
       "날짜\n",
       "2021-12-31    1670\n",
       "2021-12-30    1722\n",
       "2021-12-29    1915\n",
       "2021-12-28    1290\n",
       "2021-12-27    1496\n",
       "              ... \n",
       "2021-01-04     329\n",
       "2021-01-03     197\n",
       "2021-01-02     251\n",
       "2021-01-01     359\n",
       "2021-02-20       0\n",
       "Name: 서울시 추가 확진, Length: 367, dtype: int64"
      ]
     },
     "execution_count": 55,
     "metadata": {},
     "output_type": "execute_result"
    }
   ],
   "source": [
    "df2_2021_all_all"
   ]
  },
  {
   "cell_type": "code",
   "execution_count": 60,
   "id": "a8c86eaf",
   "metadata": {
    "scrolled": true
   },
   "outputs": [
    {
     "data": {
      "text/html": [
       "<div>\n",
       "<style scoped>\n",
       "    .dataframe tbody tr th:only-of-type {\n",
       "        vertical-align: middle;\n",
       "    }\n",
       "\n",
       "    .dataframe tbody tr th {\n",
       "        vertical-align: top;\n",
       "    }\n",
       "\n",
       "    .dataframe thead th {\n",
       "        text-align: right;\n",
       "    }\n",
       "</style>\n",
       "<table border=\"1\" class=\"dataframe\">\n",
       "  <thead>\n",
       "    <tr style=\"text-align: right;\">\n",
       "      <th></th>\n",
       "      <th>서울시 추가 확진</th>\n",
       "    </tr>\n",
       "    <tr>\n",
       "      <th>month</th>\n",
       "      <th></th>\n",
       "    </tr>\n",
       "  </thead>\n",
       "  <tbody>\n",
       "    <tr>\n",
       "      <th>1</th>\n",
       "      <td>5168</td>\n",
       "    </tr>\n",
       "    <tr>\n",
       "      <th>2</th>\n",
       "      <td>4083</td>\n",
       "    </tr>\n",
       "    <tr>\n",
       "      <th>3</th>\n",
       "      <td>3803</td>\n",
       "    </tr>\n",
       "    <tr>\n",
       "      <th>4</th>\n",
       "      <td>5811</td>\n",
       "    </tr>\n",
       "    <tr>\n",
       "      <th>5</th>\n",
       "      <td>6303</td>\n",
       "    </tr>\n",
       "    <tr>\n",
       "      <th>6</th>\n",
       "      <td>6075</td>\n",
       "    </tr>\n",
       "    <tr>\n",
       "      <th>7</th>\n",
       "      <td>14377</td>\n",
       "    </tr>\n",
       "    <tr>\n",
       "      <th>8</th>\n",
       "      <td>15019</td>\n",
       "    </tr>\n",
       "    <tr>\n",
       "      <th>9</th>\n",
       "      <td>21148</td>\n",
       "    </tr>\n",
       "    <tr>\n",
       "      <th>10</th>\n",
       "      <td>19123</td>\n",
       "    </tr>\n",
       "    <tr>\n",
       "      <th>11</th>\n",
       "      <td>34711</td>\n",
       "    </tr>\n",
       "    <tr>\n",
       "      <th>12</th>\n",
       "      <td>70977</td>\n",
       "    </tr>\n",
       "  </tbody>\n",
       "</table>\n",
       "</div>"
      ],
      "text/plain": [
       "       서울시 추가 확진\n",
       "month           \n",
       "1           5168\n",
       "2           4083\n",
       "3           3803\n",
       "4           5811\n",
       "5           6303\n",
       "6           6075\n",
       "7          14377\n",
       "8          15019\n",
       "9          21148\n",
       "10         19123\n",
       "11         34711\n",
       "12         70977"
      ]
     },
     "execution_count": 60,
     "metadata": {},
     "output_type": "execute_result"
    }
   ],
   "source": [
    "df2_2021_all_all = df2.loc[\"2021\"]\n",
    "\n",
    "df2_2021_all_all_sum = df2_2021_all_all.pivot_table(index = \"month\", values = \"서울시 추가 확진\", aggfunc = \"sum\")\n",
    "\n",
    "df2_2021_all_all_sum "
   ]
  },
  {
   "cell_type": "code",
   "execution_count": 63,
   "id": "fe3042b6",
   "metadata": {},
   "outputs": [
    {
     "data": {
      "image/png": "[encoded data removed]",
      "text/plain": [
       "<Figure size 432x288 with 1 Axes>"
      ]
     },
     "metadata": {
      "needs_background": "light"
     },
     "output_type": "display_data"
    }
   ],
   "source": [
    "month = [x for x in range(1,13)]\n",
    "\n",
    "plt.plot(df2_2021_all_all_sum )\n",
    "\n",
    "plt.xticks(month)\n",
    "\n",
    "plt.show()"
   ]
  },
  {
   "cell_type": "markdown",
   "id": "ceb6f0a3",
   "metadata": {},
   "source": [
    "# 2021년 10월  서울시 추가 확진 선그래프\n",
    "# 2021년 10월  전국 추가 확진 선그래프"
   ]
  },
  {
   "cell_type": "code",
   "execution_count": 65,
   "id": "e9ab4b6a",
   "metadata": {
    "scrolled": true
   },
   "outputs": [
    {
     "data": {
      "text/html": [
       "<div>\n",
       "<style scoped>\n",
       "    .dataframe tbody tr th:only-of-type {\n",
       "        vertical-align: middle;\n",
       "    }\n",
       "\n",
       "    .dataframe tbody tr th {\n",
       "        vertical-align: top;\n",
       "    }\n",
       "\n",
       "    .dataframe thead th {\n",
       "        text-align: right;\n",
       "    }\n",
       "</style>\n",
       "<table border=\"1\" class=\"dataframe\">\n",
       "  <thead>\n",
       "    <tr style=\"text-align: right;\">\n",
       "      <th></th>\n",
       "      <th>서울시 기준일</th>\n",
       "      <th>서울시 확진자</th>\n",
       "      <th>서울시 추가 확진</th>\n",
       "      <th>서울시 치료중</th>\n",
       "      <th>서울시 퇴원</th>\n",
       "      <th>서울시 추가 퇴원</th>\n",
       "      <th>서울시 사망</th>\n",
       "      <th>서울시 의심환자 전체</th>\n",
       "      <th>서울시 의심환자 검사중</th>\n",
       "      <th>서울시 의심환자 검사결과(음성)</th>\n",
       "      <th>...</th>\n",
       "      <th>자가격리자 해외입국자 감시해제</th>\n",
       "      <th>자가격리자 접촉자 감시중</th>\n",
       "      <th>자가격리자 접촉자 감시해제</th>\n",
       "      <th>확인중 확진자</th>\n",
       "      <th>서울시 당일사망자</th>\n",
       "      <th>전국 당일 사망자</th>\n",
       "      <th>date</th>\n",
       "      <th>year</th>\n",
       "      <th>month</th>\n",
       "      <th>day</th>\n",
       "    </tr>\n",
       "    <tr>\n",
       "      <th>날짜</th>\n",
       "      <th></th>\n",
       "      <th></th>\n",
       "      <th></th>\n",
       "      <th></th>\n",
       "      <th></th>\n",
       "      <th></th>\n",
       "      <th></th>\n",
       "      <th></th>\n",
       "      <th></th>\n",
       "      <th></th>\n",
       "      <th></th>\n",
       "      <th></th>\n",
       "      <th></th>\n",
       "      <th></th>\n",
       "      <th></th>\n",
       "      <th></th>\n",
       "      <th></th>\n",
       "      <th></th>\n",
       "      <th></th>\n",
       "      <th></th>\n",
       "      <th></th>\n",
       "    </tr>\n",
       "  </thead>\n",
       "  <tbody>\n",
       "    <tr>\n",
       "      <th>2021-10-31</th>\n",
       "      <td>2021-10-31</td>\n",
       "      <td>119594</td>\n",
       "      <td>760</td>\n",
       "      <td>11248</td>\n",
       "      <td>107550.0</td>\n",
       "      <td>951.0</td>\n",
       "      <td>796</td>\n",
       "      <td>NaN</td>\n",
       "      <td>NaN</td>\n",
       "      <td>NaN</td>\n",
       "      <td>...</td>\n",
       "      <td>NaN</td>\n",
       "      <td>NaN</td>\n",
       "      <td>NaN</td>\n",
       "      <td>0.0</td>\n",
       "      <td>NaN</td>\n",
       "      <td>NaN</td>\n",
       "      <td>2021-10-31</td>\n",
       "      <td>2021</td>\n",
       "      <td>10</td>\n",
       "      <td>31</td>\n",
       "    </tr>\n",
       "  </tbody>\n",
       "</table>\n",
       "<p>1 rows × 30 columns</p>\n",
       "</div>"
      ],
      "text/plain": [
       "              서울시 기준일  서울시 확진자  서울시 추가 확진  서울시 치료중    서울시 퇴원  서울시 추가 퇴원  \\\n",
       "날짜                                                                        \n",
       "2021-10-31 2021-10-31   119594        760    11248  107550.0      951.0   \n",
       "\n",
       "            서울시 사망  서울시 의심환자 전체  서울시 의심환자 검사중  서울시 의심환자 검사결과(음성)  ...  \\\n",
       "날짜                                                                ...   \n",
       "2021-10-31     796          NaN           NaN                NaN  ...   \n",
       "\n",
       "           자가격리자 해외입국자 감시해제  자가격리자 접촉자 감시중  자가격리자 접촉자 감시해제  확인중 확진자  \\\n",
       "날짜                                                                    \n",
       "2021-10-31              NaN            NaN             NaN      0.0   \n",
       "\n",
       "            서울시 당일사망자  전국 당일 사망자       date  year  month  day  \n",
       "날짜                                                             \n",
       "2021-10-31        NaN        NaN 2021-10-31  2021     10   31  \n",
       "\n",
       "[1 rows x 30 columns]"
      ]
     },
     "execution_count": 65,
     "metadata": {},
     "output_type": "execute_result"
    }
   ],
   "source": [
    "df2_2021_10_all = df2.loc[\"2021-10\"]\n",
    "df2_2021_10_all.head(1)"
   ]
  },
  {
   "cell_type": "code",
   "execution_count": 69,
   "id": "8068739e",
   "metadata": {},
   "outputs": [
    {
     "data": {
      "image/png": "[encoded data removed]",
      "text/plain": [
       "<Figure size 432x288 with 1 Axes>"
      ]
     },
     "metadata": {
      "needs_background": "light"
     },
     "output_type": "display_data"
    }
   ],
   "source": [
    "plt.plot(df2_2021_10_all.loc[:,\"서울시 추가 확진\"])\n",
    "plt.plot(df2_2021_10_all.loc[:,\"전국 추가 확진\"])\n",
    "\n",
    "plt.show()"
   ]
  },
  {
   "cell_type": "markdown",
   "id": "78ed9eb2",
   "metadata": {},
   "source": [
    "### 서울시와 전국의 2020-10 추가 확진의 평균에 차이가 있는지 통계적 가설 검증"
   ]
  },
  {
   "cell_type": "code",
   "execution_count": 74,
   "id": "c8a70231",
   "metadata": {},
   "outputs": [
    {
     "data": {
      "text/plain": [
       "Ttest_indResult(statistic=-14.591697513267285, pvalue=2.1212977546992815e-21)"
      ]
     },
     "execution_count": 74,
     "metadata": {},
     "output_type": "execute_result"
    }
   ],
   "source": [
    "# 귀무가설 : 서울시 와 전국의 추가 확진자 평균에는 차이가 없다.\n",
    "# 대립가설 : 서울시 와 전국의 추가 확진자 평균에는 차이가 있다.\n",
    "\n",
    "import scipy.stats as stats\n",
    "stats.ttest_ind(df2_2021_10_all.loc[:,\"서울시 추가 확진\"], df2_2021_10_all.loc[:,\"전국 추가 확진\"])\n",
    "\n",
    "# pvalue 의 값이 0.05 보다 작으므로 평균의 차이가 있다 "
   ]
  },
  {
   "cell_type": "code",
   "execution_count": 75,
   "id": "f26cd414",
   "metadata": {
    "scrolled": true
   },
   "outputs": [
    {
     "data": {
      "text/html": [
       "<div>\n",
       "<style scoped>\n",
       "    .dataframe tbody tr th:only-of-type {\n",
       "        vertical-align: middle;\n",
       "    }\n",
       "\n",
       "    .dataframe tbody tr th {\n",
       "        vertical-align: top;\n",
       "    }\n",
       "\n",
       "    .dataframe thead th {\n",
       "        text-align: right;\n",
       "    }\n",
       "</style>\n",
       "<table border=\"1\" class=\"dataframe\">\n",
       "  <thead>\n",
       "    <tr style=\"text-align: right;\">\n",
       "      <th></th>\n",
       "      <th>전국 확진</th>\n",
       "      <th>전국 추가 확진</th>\n",
       "      <th>전국 사망</th>\n",
       "    </tr>\n",
       "  </thead>\n",
       "  <tbody>\n",
       "    <tr>\n",
       "      <th>전국 확진</th>\n",
       "      <td>1.000000</td>\n",
       "      <td>0.372056</td>\n",
       "      <td>0.984412</td>\n",
       "    </tr>\n",
       "    <tr>\n",
       "      <th>전국 추가 확진</th>\n",
       "      <td>0.372056</td>\n",
       "      <td>1.000000</td>\n",
       "      <td>0.387272</td>\n",
       "    </tr>\n",
       "    <tr>\n",
       "      <th>전국 사망</th>\n",
       "      <td>0.984412</td>\n",
       "      <td>0.387272</td>\n",
       "      <td>1.000000</td>\n",
       "    </tr>\n",
       "  </tbody>\n",
       "</table>\n",
       "</div>"
      ],
      "text/plain": [
       "             전국 확진  전국 추가 확진     전국 사망\n",
       "전국 확진     1.000000  0.372056  0.984412\n",
       "전국 추가 확진  0.372056  1.000000  0.387272\n",
       "전국 사망     0.984412  0.387272  1.000000"
      ]
     },
     "execution_count": 75,
     "metadata": {},
     "output_type": "execute_result"
    }
   ],
   "source": [
    "df2.loc[:, [\"전국 확진\", \"전국 추가 확진\", \"전국 사망\"]].corr()"
   ]
  },
  {
   "cell_type": "code",
   "execution_count": null,
   "id": "6a2e773b",
   "metadata": {},
   "outputs": [],
   "source": [
    "# 귀무가설 : 전국 확진과 전국 사망 사이에는 상관 관계가 없다.\n",
    "# 대립가설 : 전국 확진과 전국 사망 사이에는 상관 관계가 있다."
   ]
  },
  {
   "cell_type": "code",
   "execution_count": 81,
   "id": "237c70da",
   "metadata": {},
   "outputs": [],
   "source": [
    "result = pd.crosstab(df2.loc[:,\"전국 확진\"], df2.loc[:,\"전국 사망\"])"
   ]
  },
  {
   "cell_type": "code",
   "execution_count": 82,
   "id": "3d6d76ee",
   "metadata": {
    "scrolled": true
   },
   "outputs": [
    {
     "data": {
      "text/plain": [
       "(902901.9999999991,\n",
       " 7.21300078205015e-10,\n",
       " 894784,\n",
       " array([[0.01498501, 0.001998  , 0.000999  , ..., 0.000999  , 0.000999  ,\n",
       "         0.000999  ],\n",
       "        [0.04495504, 0.00599401, 0.002997  , ..., 0.002997  , 0.002997  ,\n",
       "         0.002997  ],\n",
       "        [0.02997003, 0.003996  , 0.001998  , ..., 0.001998  , 0.001998  ,\n",
       "         0.001998  ],\n",
       "        ...,\n",
       "        [0.01498501, 0.001998  , 0.000999  , ..., 0.000999  , 0.000999  ,\n",
       "         0.000999  ],\n",
       "        [0.01498501, 0.001998  , 0.000999  , ..., 0.000999  , 0.000999  ,\n",
       "         0.000999  ],\n",
       "        [0.01498501, 0.001998  , 0.000999  , ..., 0.000999  , 0.000999  ,\n",
       "         0.000999  ]]))"
      ]
     },
     "execution_count": 82,
     "metadata": {},
     "output_type": "execute_result"
    }
   ],
   "source": [
    "\n"
   ]
  },
  {
   "cell_type": "markdown",
   "id": "bbe1905f",
   "metadata": {},
   "source": [
    "# 서울시 2020, 2021, 2022 년의 사망자  bar 그래프 표기"
   ]
  },
  {
   "cell_type": "code",
   "execution_count": 245,
   "id": "15618b8d",
   "metadata": {},
   "outputs": [
    {
     "data": {
      "image/png": "[encoded data removed]",
      "text/plain": [
       "<Figure size 432x288 with 1 Axes>"
      ]
     },
     "metadata": {
      "needs_background": "light"
     },
     "output_type": "display_data"
    }
   ],
   "source": [
    "df2_2020_dead = df2.loc[\"2020\", \"서울시 사망\"].max()\n",
    "df2_2021_dead = df2.loc[\"2021\", \"서울시 사망\"].max()\n",
    "df2_2022_dead = df2.loc[\"2022\", \"서울시 사망\"].max()\n",
    "\n",
    "plt.bar([2020], [df2_2020_dead])\n",
    "plt.bar([2021], [df2_2021_dead])\n",
    "plt.bar([2022], [df2_2022_dead])\n",
    "plt.show()"
   ]
  },
  {
   "cell_type": "code",
   "execution_count": 211,
   "id": "23f8a1ae",
   "metadata": {},
   "outputs": [],
   "source": [
    "df2_die_year20 = df2.loc[\"2020\", \"서울시 사망\"].max()\n",
    "df2_die_year21 = df2.loc[\"2021\", \"서울시 사망\"].max() - df2.loc[\"2020\", \"서울시 사망\"].max()\n",
    "df2_die_year22 = df2.loc[\"2022\", \"서울시 사망\"].max() - df2.loc[\"2021\", \"서울시 사망\"].max()"
   ]
  },
  {
   "cell_type": "code",
   "execution_count": 208,
   "id": "a10a1879",
   "metadata": {},
   "outputs": [
    {
     "data": {
      "text/plain": [
       "날짜\n",
       "2022-10-31    5603\n",
       "2022-10-30    5598\n",
       "2022-10-29    5597\n",
       "2022-10-28    5594\n",
       "2022-10-27    5590\n",
       "              ... \n",
       "2022-01-04    1865\n",
       "2022-01-03    1847\n",
       "2022-01-02    1839\n",
       "2022-01-01    1813\n",
       "2022-02-20       0\n",
       "Name: 서울시 사망, Length: 305, dtype: int64"
      ]
     },
     "execution_count": 208,
     "metadata": {},
     "output_type": "execute_result"
    }
   ],
   "source": [
    "df2.loc[\"2022\", \"서울시 사망\"]"
   ]
  },
  {
   "cell_type": "code",
   "execution_count": 210,
   "id": "160d4632",
   "metadata": {},
   "outputs": [
    {
     "data": {
      "text/plain": [
       "날짜\n",
       "2021-12-31    1786\n",
       "2021-12-30    1751\n",
       "2021-12-29    1729\n",
       "2021-12-28    1721\n",
       "2021-12-27    1698\n",
       "              ... \n",
       "2021-01-04     193\n",
       "2021-01-03     189\n",
       "2021-01-02     186\n",
       "2021-01-01     182\n",
       "2021-02-20       0\n",
       "Name: 서울시 사망, Length: 367, dtype: int64"
      ]
     },
     "execution_count": 210,
     "metadata": {},
     "output_type": "execute_result"
    }
   ],
   "source": [
    "df2.loc[\"2021\", \"서울시 사망\"]"
   ]
  },
  {
   "cell_type": "code",
   "execution_count": 212,
   "id": "7d7d76e1",
   "metadata": {
    "scrolled": true
   },
   "outputs": [
    {
     "data": {
      "image/png": "[encoded data removed]",
      "text/plain": [
       "<Figure size 432x288 with 1 Axes>"
      ]
     },
     "metadata": {
      "needs_background": "light"
     },
     "output_type": "display_data"
    }
   ],
   "source": [
    "plt.rc(\"font\", family = \"Malgun Gothic\")\n",
    "\n",
    "x = np.arange(3)\n",
    "years = ['2020', '2021', '2022']\n",
    "values = [df2_die_year20, df2_die_year21, df2_die_year22]\n",
    "\n",
    "plt.bar(x, values)\n",
    "plt.xticks(x, years)\n",
    "\n",
    "plt.show()"
   ]
  },
  {
   "cell_type": "markdown",
   "id": "576d0b65",
   "metadata": {},
   "source": [
    "# 서울시 2022년 월별 사망자  bar 그래프"
   ]
  },
  {
   "cell_type": "markdown",
   "id": "c404aafc",
   "metadata": {},
   "source": [
    "### 서울시 당일 사망자 사용"
   ]
  },
  {
   "cell_type": "code",
   "execution_count": 224,
   "id": "7aed1079",
   "metadata": {
    "scrolled": false
   },
   "outputs": [
    {
     "data": {
      "image/png": "[encoded data removed]",
      "text/plain": [
       "<Figure size 432x288 with 1 Axes>"
      ]
     },
     "metadata": {
      "needs_background": "light"
     },
     "output_type": "display_data"
    }
   ],
   "source": [
    "df2_2022 = df2.loc[\"2022\"]\n",
    "\n",
    "df2_2022_month_dead = df2_2022.pivot_table(index=\"month\", values=[\"서울시 당일사망자\"], aggfunc=[\"sum\"])[\"sum\"]\n",
    "\n",
    "plt.bar(df2_2022_month_dead.index, df2_2022_month_dead[\"서울시 당일사망자\"])\n",
    "plt.show()"
   ]
  },
  {
   "cell_type": "markdown",
   "id": "eed87dbb",
   "metadata": {},
   "source": [
    "### max 사용"
   ]
  },
  {
   "cell_type": "code",
   "execution_count": 216,
   "id": "e58f1452",
   "metadata": {},
   "outputs": [],
   "source": [
    "df2_die_month01 = df2.loc[\"2022-01\", \"서울시 사망\"].max() - df2.loc[\"2021-12\", \"서울시 사망\"].max()\n",
    "df2_die_month02 = df2.loc[\"2022-02\", \"서울시 사망\"].max() - df2.loc[\"2022-01\", \"서울시 사망\"].max()\n",
    "df2_die_month03 = df2.loc[\"2022-03\", \"서울시 사망\"].max() - df2.loc[\"2022-02\", \"서울시 사망\"].max()\n",
    "df2_die_month04 = df2.loc[\"2022-04\", \"서울시 사망\"].max() - df2.loc[\"2022-03\", \"서울시 사망\"].max()\n",
    "df2_die_month05 = df2.loc[\"2022-05\", \"서울시 사망\"].max() - df2.loc[\"2022-04\", \"서울시 사망\"].max()\n",
    "df2_die_month06 = df2.loc[\"2022-06\", \"서울시 사망\"].max() - df2.loc[\"2022-05\", \"서울시 사망\"].max()\n",
    "df2_die_month07 = df2.loc[\"2022-07\", \"서울시 사망\"].max() - df2.loc[\"2022-06\", \"서울시 사망\"].max()\n",
    "df2_die_month08 = df2.loc[\"2022-08\", \"서울시 사망\"].max() - df2.loc[\"2022-07\", \"서울시 사망\"].max()\n",
    "df2_die_month09 = df2.loc[\"2022-09\", \"서울시 사망\"].max() - df2.loc[\"2022-08\", \"서울시 사망\"].max()\n",
    "df2_die_month10 = df2.loc[\"2022-10\", \"서울시 사망\"].max() - df2.loc[\"2022-09\", \"서울시 사망\"].max()"
   ]
  },
  {
   "cell_type": "code",
   "execution_count": 217,
   "id": "29017ba5",
   "metadata": {},
   "outputs": [
    {
     "data": {
      "image/png": "[encoded data removed]",
      "text/plain": [
       "<Figure size 432x288 with 1 Axes>"
      ]
     },
     "metadata": {
      "needs_background": "light"
     },
     "output_type": "display_data"
    }
   ],
   "source": [
    "plt.rc(\"font\", family = \"Malgun Gothic\")\n",
    "\n",
    "x = np.arange(10)\n",
    "months = [\"1\", \"2\", \"3\" ,\"4\" ,\"5\", \"6\", \"7\", \"8\", \"9\", \"10\"]\n",
    "values = [df2_die_month01, df2_die_month02, df2_die_month03, df2_die_month04, df2_die_month05,\n",
    "          df2_die_month06, df2_die_month07, df2_die_month08, df2_die_month09, df2_die_month10]\n",
    "\n",
    "plt.bar(x, values)\n",
    "plt.xticks(x, months)\n",
    "\n",
    "plt.show()"
   ]
  },
  {
   "cell_type": "markdown",
   "id": "d57c2481",
   "metadata": {},
   "source": [
    "# 서울시 2022년 10월 사망자 라인 그래프"
   ]
  },
  {
   "cell_type": "markdown",
   "id": "a60d13a3",
   "metadata": {},
   "source": [
    "### 당일 사망자 사용"
   ]
  },
  {
   "cell_type": "code",
   "execution_count": 243,
   "id": "c33d8453",
   "metadata": {
    "scrolled": true
   },
   "outputs": [
    {
     "data": {
      "image/png": "[encoded data removed]",
      "text/plain": [
       "<Figure size 432x288 with 1 Axes>"
      ]
     },
     "metadata": {
      "needs_background": "light"
     },
     "output_type": "display_data"
    }
   ],
   "source": [
    "df2_2022_10 = df2.loc[\"2022-10\"]\n",
    "\n",
    "df2_2022_10_dead = df2_2022_10[[\"서울시 당일사망자\"]]\n",
    "\n",
    "plt.plot(df2_2022_10_dead)\n",
    "plt.show()"
   ]
  },
  {
   "cell_type": "markdown",
   "id": "bb78120c",
   "metadata": {},
   "source": [
    "### 서울시 2022년 1월 일별 사망자 line그래프"
   ]
  },
  {
   "cell_type": "code",
   "execution_count": 304,
   "id": "2678fd7c",
   "metadata": {
    "scrolled": false
   },
   "outputs": [],
   "source": [
    "list_daily = []\n",
    "first =  df2.loc[\"2022-1\", \"서울시 사망\"][30] - df2.loc[\"2021-12\", \"서울시 사망\"][0]\n",
    "list_daily.append(first)\n",
    "\n",
    "i = 0\n",
    "while i < 30 :\n",
    "    daily = df2.loc[\"2022-1\", \"서울시 사망\"][i] - df2.loc[\"2022-1\", \"서울시 사망\"][i + 1]\n",
    "    list_daily.append(daily)\n",
    "    i = i + 1"
   ]
  },
  {
   "cell_type": "code",
   "execution_count": 264,
   "id": "88035f30",
   "metadata": {},
   "outputs": [],
   "source": [
    "list_daily.reverse()"
   ]
  },
  {
   "cell_type": "code",
   "execution_count": 306,
   "id": "f2159cf9",
   "metadata": {},
   "outputs": [
    {
     "data": {
      "text/plain": [
       "[27,\n",
       " 1,\n",
       " 2,\n",
       " 8,\n",
       " 1,\n",
       " 4,\n",
       " 9,\n",
       " 7,\n",
       " 8,\n",
       " 5,\n",
       " 13,\n",
       " 5,\n",
       " 10,\n",
       " 44,\n",
       " 12,\n",
       " 7,\n",
       " 11,\n",
       " 9,\n",
       " 15,\n",
       " 13,\n",
       " 18,\n",
       " 13,\n",
       " 10,\n",
       " 21,\n",
       " 21,\n",
       " 15,\n",
       " 10,\n",
       " 23,\n",
       " 18,\n",
       " 8,\n",
       " 26]"
      ]
     },
     "execution_count": 306,
     "metadata": {},
     "output_type": "execute_result"
    }
   ],
   "source": [
    "list_daily"
   ]
  },
  {
   "cell_type": "code",
   "execution_count": 308,
   "id": "8247cef0",
   "metadata": {
    "scrolled": true
   },
   "outputs": [
    {
     "data": {
      "image/png": "[encoded data removed]",
      "text/plain": [
       "<Figure size 432x288 with 1 Axes>"
      ]
     },
     "metadata": {
      "needs_background": "light"
     },
     "output_type": "display_data"
    }
   ],
   "source": [
    "x = np.arange(1,32)\n",
    "y = list_daily\n",
    "\n",
    "plt.plot(x, y)\n",
    "plt.show()"
   ]
  }
 ],
 "metadata": {
  "kernelspec": {
   "display_name": "Python 3 (ipykernel)",
   "language": "python",
   "name": "python3"
  },
  "language_info": {
   "codemirror_mode": {
    "name": "ipython",
    "version": 3
   },
   "file_extension": ".py",
   "mimetype": "text/x-python",
   "name": "python",
   "nbconvert_exporter": "python",
   "pygments_lexer": "ipython3",
   "version": "3.9.12"
  }
 },
 "nbformat": 4,
 "nbformat_minor": 5
}
